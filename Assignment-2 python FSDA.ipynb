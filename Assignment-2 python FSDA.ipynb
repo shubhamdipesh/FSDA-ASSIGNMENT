{
 "cells": [
  {
   "cell_type": "code",
   "execution_count": 1,
   "id": "a1601c76",
   "metadata": {},
   "outputs": [
    {
     "name": "stdout",
     "output_type": "stream",
     "text": [
      "Enter values in kilometers: 5.6\n",
      "5.60 kilometers is equal to 3.48 miles\n"
     ]
    }
   ],
   "source": [
    "#Ans.1 By using conv_fac we convert kilometers into miles\n",
    "kilometers = float(input(\"Enter values in kilometers: \"))\n",
    "conv_fac = 0.621371\n",
    "miles = kilometers*conv_fac\n",
    "print('%0.2f kilometers is equal to %0.2f miles' %(kilometers,miles))\n"
   ]
  },
  {
   "cell_type": "code",
   "execution_count": 3,
   "id": "566692da",
   "metadata": {},
   "outputs": [
    {
     "name": "stdout",
     "output_type": "stream",
     "text": [
      "34\n",
      "34.0 degree Celsius is equal to 93.2 degree Fahrenheit\n"
     ]
    }
   ],
   "source": [
    "#Ans.2 By using celcius fahrenheit formula we convert celcius to fahrenheit \n",
    "celsius = float(input())\n",
    "fahrenheit = (celsius * 1.8) + 32\n",
    "print('%0.1f degree Celsius is equal to %0.1f degree Fahrenheit' %(celsius,fahrenheit))\n"
   ]
  },
  {
   "cell_type": "code",
   "execution_count": 18,
   "id": "faaafd1a",
   "metadata": {},
   "outputs": [
    {
     "name": "stdout",
     "output_type": "stream",
     "text": [
      "Enter year: 2019\n",
      "Enter month:4\n",
      "     April 2019\n",
      "Mo Tu We Th Fr Sa Su\n",
      " 1  2  3  4  5  6  7\n",
      " 8  9 10 11 12 13 14\n",
      "15 16 17 18 19 20 21\n",
      "22 23 24 25 26 27 28\n",
      "29 30\n",
      "\n"
     ]
    }
   ],
   "source": [
    "#Ans.3 By importing calender module\n",
    "import calendar\n",
    "yy = int(input(\"Enter year: \"))\n",
    "mm = int(input(\"Enter month:\"))\n",
    "print(calendar.month(yy, mm))\n"
   ]
  },
  {
   "cell_type": "code",
   "execution_count": 19,
   "id": "c8e0f555",
   "metadata": {},
   "outputs": [
    {
     "name": "stdout",
     "output_type": "stream",
     "text": [
      "The solution are (-0.8333333333333334-1.1426091000668406j) and (-0.8333333333333334+1.1426091000668406j)\n"
     ]
    }
   ],
   "source": [
    "#Ans.4 By importing cmath module we solve quadratic equation\n",
    "import cmath\n",
    "a = 3\n",
    "b = 5\n",
    "c = 6\n",
    "d = b**2 - 4*a*c\n",
    "sol1 = (-b-cmath.sqrt(d))/(2*a)\n",
    "sol2 = (-b+cmath.sqrt(d))/(2*a)\n",
    "print('The solution are {} and {}'.format(sol1,sol2))\n"
   ]
  },
  {
   "cell_type": "code",
   "execution_count": 20,
   "id": "748bff25",
   "metadata": {},
   "outputs": [
    {
     "name": "stdout",
     "output_type": "stream",
     "text": [
      "x =  20\n",
      "y =  10\n"
     ]
    }
   ],
   "source": [
    "#Ans.5 Swapping without temp variable\n",
    "x = 10\n",
    "y = 20\n",
    "x,y = y,x\n",
    "print(\"x = \" ,x)\n",
    "print(\"y = \" ,y)"
   ]
  },
  {
   "cell_type": "code",
   "execution_count": null,
   "id": "234a4d1b",
   "metadata": {},
   "outputs": [],
   "source": []
  }
 ],
 "metadata": {
  "kernelspec": {
   "display_name": "Python 3 (ipykernel)",
   "language": "python",
   "name": "python3"
  },
  "language_info": {
   "codemirror_mode": {
    "name": "ipython",
    "version": 3
   },
   "file_extension": ".py",
   "mimetype": "text/x-python",
   "name": "python",
   "nbconvert_exporter": "python",
   "pygments_lexer": "ipython3",
   "version": "3.9.13"
  }
 },
 "nbformat": 4,
 "nbformat_minor": 5
}
