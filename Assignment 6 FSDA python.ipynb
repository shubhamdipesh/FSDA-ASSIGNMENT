{
 "cells": [
  {
   "cell_type": "code",
   "execution_count": 2,
   "id": "f9f1ba6a",
   "metadata": {},
   "outputs": [
    {
     "name": "stdout",
     "output_type": "stream",
     "text": [
      "Fibonacci sequence:\n",
      "0\n",
      "1\n",
      "1\n",
      "2\n",
      "3\n",
      "5\n",
      "8\n",
      "13\n",
      "21\n",
      "34\n"
     ]
    }
   ],
   "source": [
    "#Ans.1 def recur_fibo(n):\n",
    "   if n <= 1:\n",
    "       return n\n",
    "   else:\n",
    "       return(recur_fibo(n-1) + recur_fibo(n-2))\n",
    "\n",
    "nterms = 10\n",
    "if nterms <= 0:\n",
    "   print(\"Plese enter a positive integer\")\n",
    "else:\n",
    "   print(\"Fibonacci sequence:\")\n",
    "   for i in range(nterms):\n",
    "       print(recur_fibo(i))"
   ]
  },
  {
   "cell_type": "code",
   "execution_count": 3,
   "id": "2a5d8539",
   "metadata": {},
   "outputs": [
    {
     "name": "stdout",
     "output_type": "stream",
     "text": [
      "The Factorial of 8 40320\n"
     ]
    }
   ],
   "source": [
    "#Ans.2 def recur_factorial(n):\n",
    "    if n == 1:\n",
    "        return n\n",
    "    else:\n",
    "        return n*recur_factorial(n-1)\n",
    "num = 8\n",
    "if num < 0:\n",
    "    print(\"Sorry ,factorial does not exists for negative numbers\")\n",
    "elif num == 0:\n",
    "    print(\"The factorial of 0 is 1\")\n",
    "else:\n",
    "    print(\"The Factorial of\" ,num ,recur_factorial(num))"
   ]
  },
  {
   "cell_type": "code",
   "execution_count": 6,
   "id": "3efd0846",
   "metadata": {},
   "outputs": [
    {
     "name": "stdout",
     "output_type": "stream",
     "text": [
      "Enter your height in cm780.89\n",
      "Enter your weight in kg986.54\n",
      "you are underweight.\n"
     ]
    }
   ],
   "source": [
    "#Ans.3 height = float(input(\"Enter your height in cm\"))\n",
    "weight = float(input(\"Enter your weight in kg\"))\n",
    "BMI = weight / (height/100)**2\n",
    "if BMI <= 18.4:\n",
    "    print(\"you are underweight.\")\n",
    "elif BMI <= 24.9:\n",
    "    print(\"You are overweight.\")\n",
    "elif BMI <= 34.9:\n",
    "    print(\"you are severly overweight.\")\n",
    "elif BMI <= 39.9:\n",
    "    print(\"you are severly obese.\")\n",
    "else:\n",
    "    print(\"you are severly obese\")"
   ]
  },
  {
   "cell_type": "code",
   "execution_count": 8,
   "id": "936e0552",
   "metadata": {},
   "outputs": [
    {
     "name": "stdout",
     "output_type": "stream",
     "text": [
      "Log value: 1.791759469228055\n"
     ]
    }
   ],
   "source": [
    "#Ans.4 import math\n",
    "print(\"Log value:\" ,math.log(6))"
   ]
  }
 ],
 "metadata": {
  "kernelspec": {
   "display_name": "Python 3 (ipykernel)",
   "language": "python",
   "name": "python3"
  },
  "language_info": {
   "codemirror_mode": {
    "name": "ipython",
    "version": 3
   },
   "file_extension": ".py",
   "mimetype": "text/x-python",
   "name": "python",
   "nbconvert_exporter": "python",
   "pygments_lexer": "ipython3",
   "version": "3.9.13"
  }
 },
 "nbformat": 4,
 "nbformat_minor": 5
}
