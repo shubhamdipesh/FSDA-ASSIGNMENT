{
 "cells": [
  {
   "cell_type": "code",
   "execution_count": 1,
   "id": "cab33ce5",
   "metadata": {},
   "outputs": [
    {
     "name": "stdout",
     "output_type": "stream",
     "text": [
      "hello\n"
     ]
    }
   ],
   "source": [
    "#Ans.1 print(\"hello\")"
   ]
  },
  {
   "cell_type": "code",
   "execution_count": 2,
   "id": "1444566a",
   "metadata": {},
   "outputs": [
    {
     "name": "stdout",
     "output_type": "stream",
     "text": [
      "18\n",
      "2\n",
      "20\n",
      "9.0\n"
     ]
    }
   ],
   "source": [
    "#Ans.2 a = int(input())\n",
    "b = int(input())\n",
    "c = a +b\n",
    "d = a/b\n",
    "print(c)\n",
    "print(d)"
   ]
  },
  {
   "cell_type": "code",
   "execution_count": 3,
   "id": "d17253c9",
   "metadata": {},
   "outputs": [
    {
     "name": "stdout",
     "output_type": "stream",
     "text": [
      "enter the length of first side10\n",
      "enter the length of second side12\n",
      "enter the length of third side18\n",
      "area of triangle is : 2262.741699796952\n",
      "perimiter of traiangle is: 40\n",
      "semiperimiter of triangle is: 20.0\n"
     ]
    }
   ],
   "source": [
    "#Ans.3 a = int(input(\"enter the length of first side\"))\n",
    "b = int(input(\"enter the length of second side\"))\n",
    "c =int(input(\"enter the length of third side\"))\n",
    "p = a+b+c\n",
    "s = p/2   \n",
    "area = s*(s-a)*(s-b)*(s-c)**0.5\n",
    "print(\"area of triangle is :\" ,area)\n",
    "print(\"perimiter of traiangle is:\" ,p)\n",
    "print(\"semiperimiter of triangle is:\" ,s)"
   ]
  },
  {
   "cell_type": "code",
   "execution_count": 4,
   "id": "ef2b0401",
   "metadata": {},
   "outputs": [
    {
     "name": "stdout",
     "output_type": "stream",
     "text": [
      "the value of a after swapping: 7\n",
      "the value of b after swapping:9\n"
     ]
    }
   ],
   "source": [
    "#Ans.4 a = 7\n",
    "b = 9\n",
    "print(\"the value of a after swapping: {}\".format(a))\n",
    "print(\"the value of b after swapping:{}\".format(b))"
   ]
  },
  {
   "cell_type": "code",
   "execution_count": 5,
   "id": "b3c39e8c",
   "metadata": {},
   "outputs": [
    {
     "name": "stdout",
     "output_type": "stream",
     "text": [
      "1\n"
     ]
    }
   ],
   "source": [
    "#Ans.5 import random\n",
    "print(random.randint(0,8))"
   ]
  },
  {
   "cell_type": "code",
   "execution_count": null,
   "id": "b14befc6",
   "metadata": {},
   "outputs": [],
   "source": []
  }
 ],
 "metadata": {
  "kernelspec": {
   "display_name": "Python 3 (ipykernel)",
   "language": "python",
   "name": "python3"
  },
  "language_info": {
   "codemirror_mode": {
    "name": "ipython",
    "version": 3
   },
   "file_extension": ".py",
   "mimetype": "text/x-python",
   "name": "python",
   "nbconvert_exporter": "python",
   "pygments_lexer": "ipython3",
   "version": "3.9.13"
  }
 },
 "nbformat": 4,
 "nbformat_minor": 5
}
