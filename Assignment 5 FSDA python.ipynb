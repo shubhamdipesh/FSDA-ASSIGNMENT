{
 "cells": [
  {
   "cell_type": "code",
   "execution_count": 1,
   "id": "338deaf6",
   "metadata": {},
   "outputs": [
    {
     "name": "stdout",
     "output_type": "stream",
     "text": [
      "12\n",
      "36\n",
      "36\n"
     ]
    }
   ],
   "source": [
    "##Ans.1 num1 = int(input())\n",
    "num2 = int(input())\n",
    "if (num1>num2):\n",
    "    max= num1\n",
    "else:\n",
    "    max = num2\n",
    "while(True):\n",
    "    if(max%num1 == 0 and max%num2 == 0):\n",
    "        print(max)\n",
    "        break;\n",
    "    max = max +1"
   ]
  },
  {
   "cell_type": "code",
   "execution_count": 2,
   "id": "b4b08233",
   "metadata": {},
   "outputs": [
    {
     "name": "stdout",
     "output_type": "stream",
     "text": [
      "The HCF is  400\n"
     ]
    }
   ],
   "source": [
    "#Ans.2def compute_hcf(x,y):\n",
    "    while(y):\n",
    "        x,y= y ,x%y\n",
    "        return x\n",
    "    \n",
    "hcf = compute_hcf(300 ,400)\n",
    "print(\"The HCF is \" ,hcf)"
   ]
  },
  {
   "cell_type": "code",
   "execution_count": 3,
   "id": "c8971901",
   "metadata": {},
   "outputs": [
    {
     "name": "stdout",
     "output_type": "stream",
     "text": [
      "500\n",
      "The decimal value of 500 is:\n",
      "0b111110100 in binary.\n",
      "0o764 in octal.\n",
      "0x1f4 in hexadecimal.\n"
     ]
    }
   ],
   "source": [
    "#Ans.3dec = int(input())\n",
    "print(\"The decimal value of\" ,dec,\"is:\")\n",
    "print(bin(dec),\"in binary.\")\n",
    "print(oct(dec),\"in octal.\")\n",
    "print(hex(dec) ,\"in hexadecimal.\")"
   ]
  },
  {
   "cell_type": "code",
   "execution_count": 8,
   "id": "35348f17",
   "metadata": {},
   "outputs": [
    {
     "name": "stdout",
     "output_type": "stream",
     "text": [
      "The ASCII value of 'r' is 114\n"
     ]
    }
   ],
   "source": [
    "#Ans.4c = 'r'\n",
    "print(\"The ASCII value of '\" + c + \"' is\", ord(c))"
   ]
  },
  {
   "cell_type": "code",
   "execution_count": null,
   "id": "147645cc",
   "metadata": {},
   "outputs": [],
   "source": []
  }
 ],
 "metadata": {
  "kernelspec": {
   "display_name": "Python 3 (ipykernel)",
   "language": "python",
   "name": "python3"
  },
  "language_info": {
   "codemirror_mode": {
    "name": "ipython",
    "version": 3
   },
   "file_extension": ".py",
   "mimetype": "text/x-python",
   "name": "python",
   "nbconvert_exporter": "python",
   "pygments_lexer": "ipython3",
   "version": "3.9.13"
  }
 },
 "nbformat": 4,
 "nbformat_minor": 5
}
