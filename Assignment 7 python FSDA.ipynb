{
 "cells": [
  {
   "cell_type": "code",
   "execution_count": 1,
   "id": "a9765e4b",
   "metadata": {},
   "outputs": [
    {
     "name": "stdout",
     "output_type": "stream",
     "text": [
      "180\n"
     ]
    }
   ],
   "source": [
    "##Ans.1 arr = [12,24,36,48,60]\n",
    "print(sum(arr))"
   ]
  },
  {
   "cell_type": "code",
   "execution_count": 5,
   "id": "0c5697c4",
   "metadata": {},
   "outputs": [
    {
     "name": "stdout",
     "output_type": "stream",
     "text": [
      "Largest element in given array is  None\n"
     ]
    }
   ],
   "source": [
    "##Ans.2 arr = [23,24,25,26,27,28,29]\n",
    "n = len(arr)\n",
    "Ans = largest(arr ,n)\n",
    "print(\"Largest element in given array is \" ,Ans)"
   ]
  },
  {
   "cell_type": "code",
   "execution_count": 14,
   "id": "cecf30a9",
   "metadata": {},
   "outputs": [
    {
     "name": "stdout",
     "output_type": "stream",
     "text": [
      "[array([1]), array([2]), array([3]), array([], dtype=int64)]\n"
     ]
    }
   ],
   "source": [
    "##Ans.4 import numpy as n\n",
    "a = n.array([1,2,3])\n",
    "newarray = n .array_split(a,4)\n",
    "print(newarray)"
   ]
  }
 ],
 "metadata": {
  "kernelspec": {
   "display_name": "Python 3 (ipykernel)",
   "language": "python",
   "name": "python3"
  },
  "language_info": {
   "codemirror_mode": {
    "name": "ipython",
    "version": 3
   },
   "file_extension": ".py",
   "mimetype": "text/x-python",
   "name": "python",
   "nbconvert_exporter": "python",
   "pygments_lexer": "ipython3",
   "version": "3.9.13"
  }
 },
 "nbformat": 4,
 "nbformat_minor": 5
}
